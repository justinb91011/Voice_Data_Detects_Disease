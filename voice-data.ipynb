{
 "cells": [
  {
   "cell_type": "markdown",
   "metadata": {},
   "source": [
    "# Voice Data Detects Disease"
   ]
  },
  {
   "cell_type": "code",
   "execution_count": 1,
   "metadata": {},
   "outputs": [],
   "source": [
    "import pandas as pd\n",
    "import numpy as np\n",
    "import seaborn as sns\n",
    "import matplotlib.pyplot as plt\n",
    "\n",
    "#wfdb is the package that can read WFDB format file\n",
    "import wfdb"
   ]
  },
  {
   "cell_type": "code",
   "execution_count": null,
   "metadata": {},
   "outputs": [],
   "source": [
    "import os\n",
    "from typing import Dict\n",
    "\n",
    "\n",
    "def parse_info_txt(file_path: str) -> Dict:\n",
    "    \"\"\"\n",
    "    Parse the -info.txt file to extract subject information.\n",
    "    \n",
    "    Parameters:\n",
    "    - file_path (str): The path to the -info.txt file.\n",
    "    \n",
    "    Returns:\n",
    "    - Dictionary with parsed information.\n",
    "    \"\"\"\n",
    "    info_dict = {}\n",
    "    with open(file_path, 'r') as file:\n",
    "        for line in file:\n",
    "            # Some lines contain multiple key-value pairs separated by a space\n",
    "            # Each key-value is separated by a colon\n",
    "            # We'll split the line into key-value pairs and then process each one\n",
    "            pairs = line.strip().split('  ')\n",
    "            for pair in pairs:\n",
    "                if ': ' in pair:\n",
    "                    key, value = pair.split(': ')\n",
    "                    # Replace 'NU' with numpy's NaN to indicate missing values\n",
    "                    if value == 'NU':\n",
    "                        value = np.nan\n",
    "                    else:\n",
    "                        # Try to convert numerical values to float for consistency\n",
    "                        try:\n",
    "                            value = float(value.replace(',', '.'))\n",
    "                        except ValueError:\n",
    "                            pass\n",
    "                    info_dict[key] = value\n",
    "    return info_dict"
   ]
  }
 ],
 "metadata": {
  "kernelspec": {
   "display_name": "Python 3 (ipykernel)",
   "language": "python",
   "name": "python3"
  },
  "language_info": {
   "codemirror_mode": {
    "name": "ipython",
    "version": 3
   },
   "file_extension": ".py",
   "mimetype": "text/x-python",
   "name": "python",
   "nbconvert_exporter": "python",
   "pygments_lexer": "ipython3",
   "version": "3.11.5"
  }
 },
 "nbformat": 4,
 "nbformat_minor": 2
}
