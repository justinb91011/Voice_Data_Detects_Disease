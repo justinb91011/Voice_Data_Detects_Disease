{
 "cells": [
  {
   "cell_type": "markdown",
   "metadata": {},
   "source": [
    "# Voice Data Detects Disease"
   ]
  },
  {
   "cell_type": "code",
   "execution_count": 3,
   "metadata": {},
   "outputs": [],
   "source": [
    "import pandas as pd\n",
    "import numpy as np\n",
    "import seaborn as sns\n",
    "import matplotlib.pyplot as plt\n",
    "import os\n",
    "\n",
    "#wfdb is the package that can read WFDB format file\n",
    "import wfdb"
   ]
  },
  {
   "cell_type": "markdown",
   "metadata": {},
   "source": [
    "We need to read the information text files first associated with all 208 subjects"
   ]
  },
  {
   "cell_type": "code",
   "execution_count": 4,
   "metadata": {},
   "outputs": [],
   "source": [
    "# Function to read and process the information text files\n",
    "def read_info_file(file_path):\n",
    "    # Implement reading the text file and returning a processed DataFrame\n",
    "    pass"
   ]
  },
  {
   "cell_type": "markdown",
   "metadata": {},
   "source": [
    "Using wfdb we will read the .hea files associated with all 208 subjects."
   ]
  },
  {
   "cell_type": "code",
   "execution_count": 5,
   "metadata": {},
   "outputs": [],
   "source": [
    "# Function to read the .dat and .hea files\n",
    "def read_signal_files(dat_file_path, hea_file_path):\n",
    "    # Use wfdb to read the files and extract features\n",
    "    pass"
   ]
  },
  {
   "cell_type": "markdown",
   "metadata": {},
   "source": [
    "Implement a loop to start reading all the files for the 208 subjects within the databse"
   ]
  },
  {
   "cell_type": "code",
   "execution_count": 6,
   "metadata": {},
   "outputs": [],
   "source": [
    "# Base path to the voice-database folder\n",
    "base_path = '/voice-database'\n",
    "\n",
    "# Initialize a list to hold all combined subject data\n",
    "all_subject_data = []\n",
    "\n",
    "# Loop over all subject IDs\n",
    "for subject_id in range(1, 209):  # Assuming IDs from 001 to 208\n",
    "    # Construct file paths\n",
    "    info_path = os.path.join(base_path, f'voice{subject_id:03}-info.txt')\n",
    "    dat_path = os.path.join(base_path, f'voice{subject_id:03}.dat')\n",
    "    hea_path = os.path.join(base_path, f'voice{subject_id:03}.hea')\n",
    "    txt_path = os.path.join(base_path, f'voice{subject_id:03}.txt')\n",
    "    \n",
    "    # Read and process info file\n",
    "    info_data = read_info_file(info_path)\n",
    "    \n",
    "    # Read and process signal files (.dat and .hea)\n",
    "    signal_data = read_signal_files(dat_path, hea_path)\n",
    "    \n",
    "    # Combine the info and signal data into one record\n",
    "    combined_data = ...  # You need to decide how to combine these\n",
    "    \n",
    "    # Append the combined data to the list\n",
    "    all_subject_data.append(combined_data)\n",
    "\n",
    "# Optionally, convert the list to a DataFrame\n",
    "all_subjects_df = pd.DataFrame(all_subject_data)\n"
   ]
  }
 ],
 "metadata": {
  "kernelspec": {
   "display_name": "Python 3 (ipykernel)",
   "language": "python",
   "name": "python3"
  },
  "language_info": {
   "codemirror_mode": {
    "name": "ipython",
    "version": 3
   },
   "file_extension": ".py",
   "mimetype": "text/x-python",
   "name": "python",
   "nbconvert_exporter": "python",
   "pygments_lexer": "ipython3",
   "version": "3.11.5"
  }
 },
 "nbformat": 4,
 "nbformat_minor": 2
}
