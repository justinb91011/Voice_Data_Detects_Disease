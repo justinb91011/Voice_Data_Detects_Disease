{
 "cells": [
  {
   "cell_type": "markdown",
   "metadata": {},
   "source": [
    "# Voice Data Detects Disease\n"
   ]
  },
  {
   "cell_type": "markdown",
   "metadata": {},
   "source": [
    "The data that we will be looking at was collected in a study. The study recruited adult subjects ranging from 18 to 70 years old who were capable of engaging in the research's required stages. Exclusion criteria included minors and individuals over 70, those with vocal fold disorders, upper respiratory tract infections, or neurological issues. Recordings were sampled at 8000 Hz with a 32-bit resolution and underwent noise-filtering to ensure clarity. Subjects were instructed to speak at a regular conversational volume and underwent several practice attempts prior to the final recording.\n"
   ]
  },
  {
   "cell_type": "code",
   "execution_count": 831,
   "metadata": {},
   "outputs": [],
   "source": [
    "import pandas as pd\n",
    "import numpy as np\n",
    "import seaborn as sns\n",
    "import matplotlib.pyplot as plt\n",
    "import os\n",
    "#wfdb is the package that can read WFDB format file\n",
    "import wfdb\n",
    "from sklearn.neighbors import KNeighborsClassifier\n",
    "from sklearn.metrics import accuracy_score, confusion_matrix"
   ]
  },
  {
   "cell_type": "markdown",
   "metadata": {},
   "source": [
    "We need to read the information text files first associated with all 208 subjects\n"
   ]
  },
  {
   "cell_type": "code",
   "execution_count": 832,
   "metadata": {},
   "outputs": [],
   "source": [
    "def read_info_file(file_path):\n",
    "    data = {}\n",
    "    with open(file_path, 'r') as file:\n",
    "        lines = file.readlines()\n",
    "    for line in lines:\n",
    "        line = line.strip()\n",
    "        if line:\n",
    "            if ':' not in line:  # Check if the line contains a colon\n",
    "                continue  # If not, skip this line\n",
    "            key, value = line.split(':', 1)  # Split only on the first colon\n",
    "            key = key.strip()\n",
    "            value = value.strip()\n",
    "            if value.lower() == 'nu' or not value:  # Check for 'NU' or empty string\n",
    "                value = np.nan  # Replace 'NU' with NaN\n",
    "            else:\n",
    "                try:\n",
    "                    # Remove units and convert to float\n",
    "                    value = float(value.replace('gr', '').replace('litres', '').replace(',', '.'))\n",
    "                except ValueError:\n",
    "                    pass  # Keep as string if not a number\n",
    "            data[key] = value\n",
    "    return data\n"
   ]
  },
  {
   "cell_type": "markdown",
   "metadata": {},
   "source": [
    "The voice recordings are provided in WFDB format. Each of the 208 subjects have a \n",
    ".dat file associated with them. This is the voice recording data, in order to read this data we have to use the wfdb package\n"
   ]
  },
  {
   "cell_type": "code",
   "execution_count": 833,
   "metadata": {},
   "outputs": [],
   "source": [
    "def read_signal_files(dat_file_path, hea_file_path):\n",
    "    # Load the record using wfdb\n",
    "    record = wfdb.rdrecord(dat_file_path.replace('.dat', ''))\n",
    "    \n",
    "    # Extract the signal and annotations from the record\n",
    "    signal = record.p_signal.flatten()  # Assuming it's a single-channel recording\n",
    "    \n",
    "    # Calculate basic statistics on the signal\n",
    "    mean_signal = np.mean(signal)\n",
    "    std_signal = np.std(signal)\n",
    "    max_signal = np.max(signal)\n",
    "    min_signal = np.min(signal)\n",
    "    \n",
    "    # Create a dictionary with the extracted data\n",
    "    signal_data = {\n",
    "        'Mean_Signal': mean_signal,\n",
    "        'Std_Signal': std_signal,\n",
    "        'Max_Signal': max_signal,\n",
    "        'Min_Signal': min_signal\n",
    "    }\n",
    "    \n",
    "    return signal_data"
   ]
  },
  {
   "cell_type": "markdown",
   "metadata": {},
   "source": [
    "Implement a loop to start reading all the files for the 208 subjects within the databse\n"
   ]
  },
  {
   "cell_type": "code",
   "execution_count": 834,
   "metadata": {},
   "outputs": [],
   "source": [
    "# Base path to the voice-database folder\n",
    "base_path = 'voice-database'\n",
    "\n",
    "# Initialize a list to hold all combined subject data\n",
    "all_subject_data = []\n",
    "\n",
    "# Loop over all subject IDs\n",
    "for subject_id in range(1, 209):  # Assuming IDs from 001 to 208\n",
    "    # Construct file paths\n",
    "    info_path = os.path.join(base_path, f'voice{subject_id:03}-info.txt')\n",
    "    dat_path = os.path.join(base_path, f'voice{subject_id:03}.dat')\n",
    "    hea_path = os.path.join(base_path, f'voice{subject_id:03}.hea')\n",
    "    txt_path = os.path.join(base_path, f'voice{subject_id:03}.txt')\n",
    "    \n",
    "    # Read and process info file\n",
    "    info_data = read_info_file(info_path)\n",
    "    \n",
    "    # Read and process signal files (.dat and .hea)\n",
    "    signal_data = read_signal_files(dat_path, hea_path)\n",
    "    \n",
    "    # Combine the info and signal data into one record\n",
    "    combined_data = info_data.copy()\n",
    "    combined_data.update(signal_data) \n",
    "    \n",
    "    # Append the combined data to the list\n",
    "    all_subject_data.append(combined_data)\n",
    "\n",
    "# Convert the list to a DataFrame\n",
    "all_subjects_df = pd.DataFrame(all_subject_data)\n"
   ]
  },
  {
   "cell_type": "markdown",
   "metadata": {},
   "source": [
    "**Exploring the Dataframe we have crated.**\n",
    "\n",
    "Use the .head() funtion to display the first few rows of the DataFrame.\n"
   ]
  },
  {
   "cell_type": "code",
   "execution_count": 835,
   "metadata": {},
   "outputs": [
    {
     "data": {
      "text/html": [
       "<div>\n",
       "<style scoped>\n",
       "    .dataframe tbody tr th:only-of-type {\n",
       "        vertical-align: middle;\n",
       "    }\n",
       "\n",
       "    .dataframe tbody tr th {\n",
       "        vertical-align: top;\n",
       "    }\n",
       "\n",
       "    .dataframe thead th {\n",
       "        text-align: right;\n",
       "    }\n",
       "</style>\n",
       "<table border=\"1\" class=\"dataframe\">\n",
       "  <thead>\n",
       "    <tr style=\"text-align: right;\">\n",
       "      <th></th>\n",
       "      <th>Age</th>\n",
       "      <th>Gender</th>\n",
       "      <th>Diagnosis</th>\n",
       "      <th>Occupation status</th>\n",
       "      <th>Voice Handicap Index (VHI) Score</th>\n",
       "      <th>Reflux Symptom Index (RSI) Score</th>\n",
       "      <th>Smoker</th>\n",
       "      <th>Number of cigarettes smoked per day</th>\n",
       "      <th>Alcohol consumption</th>\n",
       "      <th>Amount of water's litres drink every day</th>\n",
       "      <th>...</th>\n",
       "      <th>Carbonated beverages</th>\n",
       "      <th>Tomatoes</th>\n",
       "      <th>Coffee</th>\n",
       "      <th>Chocolate</th>\n",
       "      <th>Soft cheese</th>\n",
       "      <th>Citrus fruits</th>\n",
       "      <th>Mean_Signal</th>\n",
       "      <th>Std_Signal</th>\n",
       "      <th>Max_Signal</th>\n",
       "      <th>Min_Signal</th>\n",
       "    </tr>\n",
       "  </thead>\n",
       "  <tbody>\n",
       "    <tr>\n",
       "      <th>0</th>\n",
       "      <td>32.0</td>\n",
       "      <td>m</td>\n",
       "      <td>hyperkinetic dysphonia</td>\n",
       "      <td>Researcher</td>\n",
       "      <td>15.0</td>\n",
       "      <td>5.0</td>\n",
       "      <td>no</td>\n",
       "      <td>NaN</td>\n",
       "      <td>casual drinker</td>\n",
       "      <td>1.5</td>\n",
       "      <td>...</td>\n",
       "      <td>almost never</td>\n",
       "      <td>sometimes</td>\n",
       "      <td>almost always</td>\n",
       "      <td>almost never</td>\n",
       "      <td>sometimes</td>\n",
       "      <td>sometimes</td>\n",
       "      <td>-0.000478</td>\n",
       "      <td>0.130235</td>\n",
       "      <td>0.590118</td>\n",
       "      <td>-0.462646</td>\n",
       "    </tr>\n",
       "    <tr>\n",
       "      <th>1</th>\n",
       "      <td>55.0</td>\n",
       "      <td>m</td>\n",
       "      <td>healthy</td>\n",
       "      <td>Employee</td>\n",
       "      <td>17.0</td>\n",
       "      <td>12.0</td>\n",
       "      <td>casual smoker</td>\n",
       "      <td>2.0</td>\n",
       "      <td>habitual drinker</td>\n",
       "      <td>0.5</td>\n",
       "      <td>...</td>\n",
       "      <td>almost always</td>\n",
       "      <td>sometimes</td>\n",
       "      <td>sometimes</td>\n",
       "      <td>sometimes</td>\n",
       "      <td>almost always</td>\n",
       "      <td>almost always</td>\n",
       "      <td>-0.000198</td>\n",
       "      <td>0.290999</td>\n",
       "      <td>0.906860</td>\n",
       "      <td>-0.872040</td>\n",
       "    </tr>\n",
       "    <tr>\n",
       "      <th>2</th>\n",
       "      <td>34.0</td>\n",
       "      <td>m</td>\n",
       "      <td>hyperkinetic dysphonia (nodule)</td>\n",
       "      <td>Researcher</td>\n",
       "      <td>42.0</td>\n",
       "      <td>26.0</td>\n",
       "      <td>no</td>\n",
       "      <td>NaN</td>\n",
       "      <td>casual drinker</td>\n",
       "      <td>1.5</td>\n",
       "      <td>...</td>\n",
       "      <td>sometimes</td>\n",
       "      <td>sometimes</td>\n",
       "      <td>almost always</td>\n",
       "      <td>sometimes</td>\n",
       "      <td>almost always</td>\n",
       "      <td>almost never</td>\n",
       "      <td>-0.000311</td>\n",
       "      <td>0.259768</td>\n",
       "      <td>0.925568</td>\n",
       "      <td>-0.756714</td>\n",
       "    </tr>\n",
       "    <tr>\n",
       "      <th>3</th>\n",
       "      <td>28.0</td>\n",
       "      <td>f</td>\n",
       "      <td>hypokinetic dysphonia</td>\n",
       "      <td>Researcher</td>\n",
       "      <td>20.0</td>\n",
       "      <td>9.0</td>\n",
       "      <td>casual smoker</td>\n",
       "      <td>NaN</td>\n",
       "      <td>casual drinker</td>\n",
       "      <td>1.0</td>\n",
       "      <td>...</td>\n",
       "      <td>almost never</td>\n",
       "      <td>sometimes</td>\n",
       "      <td>always</td>\n",
       "      <td>sometimes</td>\n",
       "      <td>almost always</td>\n",
       "      <td>sometimes</td>\n",
       "      <td>-0.000523</td>\n",
       "      <td>0.051166</td>\n",
       "      <td>0.185791</td>\n",
       "      <td>-0.151184</td>\n",
       "    </tr>\n",
       "    <tr>\n",
       "      <th>4</th>\n",
       "      <td>54.0</td>\n",
       "      <td>f</td>\n",
       "      <td>hypokinetic dysphonia</td>\n",
       "      <td>Researcher</td>\n",
       "      <td>39.0</td>\n",
       "      <td>23.0</td>\n",
       "      <td>no</td>\n",
       "      <td>NaN</td>\n",
       "      <td>casual drinker</td>\n",
       "      <td>1.5</td>\n",
       "      <td>...</td>\n",
       "      <td>never</td>\n",
       "      <td>sometimes</td>\n",
       "      <td>never</td>\n",
       "      <td>sometimes</td>\n",
       "      <td>sometimes</td>\n",
       "      <td>almost always</td>\n",
       "      <td>-0.000494</td>\n",
       "      <td>0.185828</td>\n",
       "      <td>0.586456</td>\n",
       "      <td>-0.534973</td>\n",
       "    </tr>\n",
       "  </tbody>\n",
       "</table>\n",
       "<p>5 rows × 21 columns</p>\n",
       "</div>"
      ],
      "text/plain": [
       "    Age Gender                        Diagnosis Occupation status  \\\n",
       "0  32.0      m           hyperkinetic dysphonia        Researcher   \n",
       "1  55.0      m                          healthy          Employee   \n",
       "2  34.0      m  hyperkinetic dysphonia (nodule)        Researcher   \n",
       "3  28.0      f            hypokinetic dysphonia        Researcher   \n",
       "4  54.0      f            hypokinetic dysphonia        Researcher   \n",
       "\n",
       "   Voice Handicap Index (VHI) Score  Reflux Symptom Index (RSI) Score  \\\n",
       "0                              15.0                               5.0   \n",
       "1                              17.0                              12.0   \n",
       "2                              42.0                              26.0   \n",
       "3                              20.0                               9.0   \n",
       "4                              39.0                              23.0   \n",
       "\n",
       "          Smoker  Number of cigarettes smoked per day Alcohol consumption  \\\n",
       "0             no                                  NaN      casual drinker   \n",
       "1  casual smoker                                  2.0    habitual drinker   \n",
       "2             no                                  NaN      casual drinker   \n",
       "3  casual smoker                                  NaN      casual drinker   \n",
       "4             no                                  NaN      casual drinker   \n",
       "\n",
       "   Amount of water's litres drink every day  ...  Carbonated beverages  \\\n",
       "0                                       1.5  ...          almost never   \n",
       "1                                       0.5  ...         almost always   \n",
       "2                                       1.5  ...             sometimes   \n",
       "3                                       1.0  ...          almost never   \n",
       "4                                       1.5  ...                 never   \n",
       "\n",
       "    Tomatoes         Coffee     Chocolate    Soft cheese  Citrus fruits  \\\n",
       "0  sometimes  almost always  almost never      sometimes      sometimes   \n",
       "1  sometimes      sometimes     sometimes  almost always  almost always   \n",
       "2  sometimes  almost always     sometimes  almost always   almost never   \n",
       "3  sometimes         always     sometimes  almost always      sometimes   \n",
       "4  sometimes          never     sometimes      sometimes  almost always   \n",
       "\n",
       "  Mean_Signal  Std_Signal  Max_Signal  Min_Signal  \n",
       "0   -0.000478    0.130235    0.590118   -0.462646  \n",
       "1   -0.000198    0.290999    0.906860   -0.872040  \n",
       "2   -0.000311    0.259768    0.925568   -0.756714  \n",
       "3   -0.000523    0.051166    0.185791   -0.151184  \n",
       "4   -0.000494    0.185828    0.586456   -0.534973  \n",
       "\n",
       "[5 rows x 21 columns]"
      ]
     },
     "execution_count": 835,
     "metadata": {},
     "output_type": "execute_result"
    }
   ],
   "source": [
    "all_subjects_df.head()"
   ]
  },
  {
   "cell_type": "markdown",
   "metadata": {},
   "source": [
    "Use the .info() function with the dataframe. This will provide a concise summary of the DataFrame, including the number of non-null entries in each column and data types.\n"
   ]
  },
  {
   "cell_type": "code",
   "execution_count": 836,
   "metadata": {},
   "outputs": [
    {
     "name": "stdout",
     "output_type": "stream",
     "text": [
      "<class 'pandas.core.frame.DataFrame'>\n",
      "RangeIndex: 208 entries, 0 to 207\n",
      "Data columns (total 21 columns):\n",
      " #   Column                                    Non-Null Count  Dtype  \n",
      "---  ------                                    --------------  -----  \n",
      " 0   Age                                       208 non-null    float64\n",
      " 1   Gender                                    208 non-null    object \n",
      " 2   Diagnosis                                 208 non-null    object \n",
      " 3   Occupation status                         167 non-null    object \n",
      " 4   Voice Handicap Index (VHI) Score          208 non-null    float64\n",
      " 5   Reflux Symptom Index (RSI) Score          208 non-null    float64\n",
      " 6   Smoker                                    208 non-null    object \n",
      " 7   Number of cigarettes smoked per day       41 non-null     float64\n",
      " 8   Alcohol consumption                       208 non-null    object \n",
      " 9   Amount of water's litres drink every day  208 non-null    float64\n",
      " 10  Eating habits                             0 non-null      float64\n",
      " 11  Carbonated beverages                      208 non-null    object \n",
      " 12  Tomatoes                                  208 non-null    object \n",
      " 13  Coffee                                    208 non-null    object \n",
      " 14  Chocolate                                 208 non-null    object \n",
      " 15  Soft cheese                               208 non-null    object \n",
      " 16  Citrus fruits                             208 non-null    object \n",
      " 17  Mean_Signal                               208 non-null    float64\n",
      " 18  Std_Signal                                208 non-null    float64\n",
      " 19  Max_Signal                                208 non-null    float64\n",
      " 20  Min_Signal                                208 non-null    float64\n",
      "dtypes: float64(10), object(11)\n",
      "memory usage: 34.3+ KB\n"
     ]
    }
   ],
   "source": [
    "all_subjects_df.info()"
   ]
  },
  {
   "cell_type": "markdown",
   "metadata": {},
   "source": [
    "After using the .info() function we can see that the Dataframe has eating habits, however by a simple look at the subject data info.txt files we can see that they don't have anything for that section. So we should remove this from our dataset."
   ]
  },
  {
   "cell_type": "code",
   "execution_count": 837,
   "metadata": {},
   "outputs": [],
   "source": [
    "all_subjects_df = all_subjects_df.drop(columns=['Eating habits'])"
   ]
  },
  {
   "cell_type": "markdown",
   "metadata": {},
   "source": [
    "Use the .describe() function with the Dataframe. This gives a statistical summary of the DataFrame, useful for numerical fields.\n"
   ]
  },
  {
   "cell_type": "code",
   "execution_count": 838,
   "metadata": {},
   "outputs": [
    {
     "data": {
      "text/html": [
       "<div>\n",
       "<style scoped>\n",
       "    .dataframe tbody tr th:only-of-type {\n",
       "        vertical-align: middle;\n",
       "    }\n",
       "\n",
       "    .dataframe tbody tr th {\n",
       "        vertical-align: top;\n",
       "    }\n",
       "\n",
       "    .dataframe thead th {\n",
       "        text-align: right;\n",
       "    }\n",
       "</style>\n",
       "<table border=\"1\" class=\"dataframe\">\n",
       "  <thead>\n",
       "    <tr style=\"text-align: right;\">\n",
       "      <th></th>\n",
       "      <th>Age</th>\n",
       "      <th>Voice Handicap Index (VHI) Score</th>\n",
       "      <th>Reflux Symptom Index (RSI) Score</th>\n",
       "      <th>Number of cigarettes smoked per day</th>\n",
       "      <th>Amount of water's litres drink every day</th>\n",
       "      <th>Mean_Signal</th>\n",
       "      <th>Std_Signal</th>\n",
       "      <th>Max_Signal</th>\n",
       "      <th>Min_Signal</th>\n",
       "    </tr>\n",
       "  </thead>\n",
       "  <tbody>\n",
       "    <tr>\n",
       "      <th>mean</th>\n",
       "      <td>44.086538</td>\n",
       "      <td>23.846154</td>\n",
       "      <td>11.990385</td>\n",
       "      <td>15.292683</td>\n",
       "      <td>1.431490</td>\n",
       "      <td>-0.000397</td>\n",
       "      <td>0.196733</td>\n",
       "      <td>0.740366</td>\n",
       "      <td>-0.573302</td>\n",
       "    </tr>\n",
       "    <tr>\n",
       "      <th>std</th>\n",
       "      <td>13.743763</td>\n",
       "      <td>23.588366</td>\n",
       "      <td>8.302837</td>\n",
       "      <td>8.629148</td>\n",
       "      <td>0.471206</td>\n",
       "      <td>0.000103</td>\n",
       "      <td>0.070158</td>\n",
       "      <td>0.210519</td>\n",
       "      <td>0.213895</td>\n",
       "    </tr>\n",
       "    <tr>\n",
       "      <th>min</th>\n",
       "      <td>18.000000</td>\n",
       "      <td>0.000000</td>\n",
       "      <td>0.000000</td>\n",
       "      <td>2.000000</td>\n",
       "      <td>0.250000</td>\n",
       "      <td>-0.000615</td>\n",
       "      <td>0.038769</td>\n",
       "      <td>0.117798</td>\n",
       "      <td>-1.000000</td>\n",
       "    </tr>\n",
       "    <tr>\n",
       "      <th>25%</th>\n",
       "      <td>32.750000</td>\n",
       "      <td>5.000000</td>\n",
       "      <td>5.000000</td>\n",
       "      <td>10.000000</td>\n",
       "      <td>1.000000</td>\n",
       "      <td>-0.000477</td>\n",
       "      <td>0.150141</td>\n",
       "      <td>0.609100</td>\n",
       "      <td>-0.746819</td>\n",
       "    </tr>\n",
       "    <tr>\n",
       "      <th>50%</th>\n",
       "      <td>45.000000</td>\n",
       "      <td>17.000000</td>\n",
       "      <td>12.000000</td>\n",
       "      <td>15.000000</td>\n",
       "      <td>1.500000</td>\n",
       "      <td>-0.000416</td>\n",
       "      <td>0.195999</td>\n",
       "      <td>0.782242</td>\n",
       "      <td>-0.575638</td>\n",
       "    </tr>\n",
       "    <tr>\n",
       "      <th>75%</th>\n",
       "      <td>55.000000</td>\n",
       "      <td>35.000000</td>\n",
       "      <td>18.000000</td>\n",
       "      <td>20.000000</td>\n",
       "      <td>2.000000</td>\n",
       "      <td>-0.000326</td>\n",
       "      <td>0.252970</td>\n",
       "      <td>0.918266</td>\n",
       "      <td>-0.421722</td>\n",
       "    </tr>\n",
       "    <tr>\n",
       "      <th>max</th>\n",
       "      <td>70.000000</td>\n",
       "      <td>106.000000</td>\n",
       "      <td>41.000000</td>\n",
       "      <td>40.000000</td>\n",
       "      <td>2.500000</td>\n",
       "      <td>-0.000111</td>\n",
       "      <td>0.348097</td>\n",
       "      <td>0.999969</td>\n",
       "      <td>-0.102875</td>\n",
       "    </tr>\n",
       "  </tbody>\n",
       "</table>\n",
       "</div>"
      ],
      "text/plain": [
       "            Age  Voice Handicap Index (VHI) Score  \\\n",
       "mean  44.086538                         23.846154   \n",
       "std   13.743763                         23.588366   \n",
       "min   18.000000                          0.000000   \n",
       "25%   32.750000                          5.000000   \n",
       "50%   45.000000                         17.000000   \n",
       "75%   55.000000                         35.000000   \n",
       "max   70.000000                        106.000000   \n",
       "\n",
       "      Reflux Symptom Index (RSI) Score  Number of cigarettes smoked per day  \\\n",
       "mean                         11.990385                            15.292683   \n",
       "std                           8.302837                             8.629148   \n",
       "min                           0.000000                             2.000000   \n",
       "25%                           5.000000                            10.000000   \n",
       "50%                          12.000000                            15.000000   \n",
       "75%                          18.000000                            20.000000   \n",
       "max                          41.000000                            40.000000   \n",
       "\n",
       "      Amount of water's litres drink every day  Mean_Signal  Std_Signal  \\\n",
       "mean                                  1.431490    -0.000397    0.196733   \n",
       "std                                   0.471206     0.000103    0.070158   \n",
       "min                                   0.250000    -0.000615    0.038769   \n",
       "25%                                   1.000000    -0.000477    0.150141   \n",
       "50%                                   1.500000    -0.000416    0.195999   \n",
       "75%                                   2.000000    -0.000326    0.252970   \n",
       "max                                   2.500000    -0.000111    0.348097   \n",
       "\n",
       "      Max_Signal  Min_Signal  \n",
       "mean    0.740366   -0.573302  \n",
       "std     0.210519    0.213895  \n",
       "min     0.117798   -1.000000  \n",
       "25%     0.609100   -0.746819  \n",
       "50%     0.782242   -0.575638  \n",
       "75%     0.918266   -0.421722  \n",
       "max     0.999969   -0.102875  "
      ]
     },
     "execution_count": 838,
     "metadata": {},
     "output_type": "execute_result"
    }
   ],
   "source": [
    "# Drop the 'count' row from the resulting DataFrame this will make it now show when we use the describe function \n",
    "all_subjects_df.describe().drop('count')"
   ]
  },
  {
   "cell_type": "markdown",
   "metadata": {},
   "source": [
    "We wanna find out how many features our dataframe has so let's use .shape function. "
   ]
  },
  {
   "cell_type": "code",
   "execution_count": 839,
   "metadata": {},
   "outputs": [
    {
     "name": "stdout",
     "output_type": "stream",
     "text": [
      "Number of features: 20\n"
     ]
    }
   ],
   "source": [
    "num_features = all_subjects_df.shape[1]\n",
    "print(f\"Number of features: {num_features}\")"
   ]
  },
  {
   "cell_type": "markdown",
   "metadata": {},
   "source": [
    "Let's revisit our function read_signal_files that reads the voice recordinds of the 208 subjects in our dataset. Why do we store 4 things(Mean Signal, Standar Deviation of Signal, Max Signal, and Minimum Signal) for each of the 208 subjects? Let's look at these more in detail. "
   ]
  },
  {
   "cell_type": "markdown",
   "metadata": {},
   "source": [
    "*Mean Signal:* The mean signal represents the average amplitude of the voice recording. It can provide insights into the overall loudness and energy of the voice sample. Variations in the mean signal can be indicative of vocal health, where unusually high or low average amplitudes may suggest possible voice disorders."
   ]
  },
  {
   "cell_type": "markdown",
   "metadata": {},
   "source": [
    "*Standard Deviation of Signal:* This measures the amount of variation or dispersion from the mean signal. A high standard deviation indicates that the signal varies widely from the mean, which could be a sign of an unstable or inconsistent voice — potentially a symptom of a voice pathology."
   ]
  },
  {
   "cell_type": "markdown",
   "metadata": {},
   "source": [
    "*Maximum Signal Amplitude:* The maximum amplitude reflects the loudest part of the voice recording. By identifying the peak amplitude, we can assess the dynamic range of the subject's voice and detect any abnormal vocal efforts or strain."
   ]
  },
  {
   "cell_type": "markdown",
   "metadata": {},
   "source": [
    "*Minimum Signal Amplitude:* Conversely, the minimum amplitude can indicate the softest part of the recording. Analyzing both the maximum and minimum amplitudes can give us a better understanding of the subject's vocal range and any difficulties in maintaining vocal intensity."
   ]
  },
  {
   "cell_type": "markdown",
   "metadata": {},
   "source": [
    "Lets split our data into training and test sets. We will also change the diagnosis feature to be numeric instead. So diagnosis will now only be 0 or 1. With 0 representing a healthy subject, while 1 will represent a subject with a disease."
   ]
  },
  {
   "cell_type": "code",
   "execution_count": 840,
   "metadata": {},
   "outputs": [
    {
     "name": "stdout",
     "output_type": "stream",
     "text": [
      "Number of healthy individuals: 57\n",
      "Number of non-healthy individuals: 151\n"
     ]
    }
   ],
   "source": [
    "from sklearn.model_selection import train_test_split\n",
    "# Select only the voice data features for X\n",
    "voice_features = ['Mean_Signal', 'Std_Signal', 'Max_Signal', 'Min_Signal']\n",
    "X = all_subjects_df[voice_features]\n",
    "\n",
    "# We wanna mark the diagnosis as numbers. 0 = healthy, and if they have any other disease it will be 1\n",
    "all_subjects_df['Diagnosis'] = all_subjects_df['Diagnosis'].str.lower().str.strip().apply(lambda x: 0 if x == 'healthy' else 1)\n",
    "\n",
    "# The target variable is Diagnosis since that's what we will be focusing on \n",
    "y = all_subjects_df['Diagnosis']\n",
    "\n",
    "# Splitting the data into training and testing sets (70-30 split)\n",
    "X_train, X_test, y_train, y_test = train_test_split(X, y, test_size=0.3, random_state=42)\n",
    "\n",
    "# We wanna count the number of healthy vs non-healthy subjects \n",
    "healthy_count = all_subjects_df['Diagnosis'].value_counts()[0]\n",
    "non_healthy_count = all_subjects_df['Diagnosis'].value_counts()[1]\n",
    "\n",
    "print(f'Number of healthy individuals: {healthy_count}')\n",
    "print(f'Number of non-healthy individuals: {non_healthy_count}')"
   ]
  },
  {
   "cell_type": "markdown",
   "metadata": {},
   "source": [
    "Let's visualize if there is a trend between 'Mean_Signal' and 'Diagnosis. Let's do a scatterplot for this."
   ]
  },
  {
   "cell_type": "code",
   "execution_count": 841,
   "metadata": {},
   "outputs": [
    {
     "data": {
      "image/png": "[encoded data removed]",
      "text/plain": [
       "<Figure size 1000x600 with 1 Axes>"
      ]
     },
     "metadata": {},
     "output_type": "display_data"
    }
   ],
   "source": [
    "plt.figure(figsize=(10, 6))\n",
    "sns.scatterplot(x='Mean_Signal', y='Diagnosis', data=all_subjects_df, alpha=0.6)\n",
    "plt.title('Mean Signal vs. Diagnosis')\n",
    "plt.xlabel('Mean Signal')\n",
    "plt.ylabel('Diagnosis (0: Healthy, 1: Pathological)')\n",
    "plt.show()"
   ]
  },
  {
   "cell_type": "markdown",
   "metadata": {},
   "source": [
    "Lets split our data into training and testing"
   ]
  },
  {
   "cell_type": "code",
   "execution_count": 842,
   "metadata": {},
   "outputs": [
    {
     "name": "stdout",
     "output_type": "stream",
     "text": [
      "Accuracy Score: 0.6984126984126984\n"
     ]
    },
    {
     "data": {
      "image/png": "[encoded data removed]",
      "text/plain": [
       "<Figure size 640x480 with 2 Axes>"
      ]
     },
     "metadata": {},
     "output_type": "display_data"
    }
   ],
   "source": [
    "from sklearn.metrics import ConfusionMatrixDisplay\n",
    "\n",
    "\n",
    "knn = KNeighborsClassifier(n_neighbors=8)\n",
    "\n",
    "knn.fit(X_train, y_train)\n",
    "\n",
    "# Predict on the test set\n",
    "y_pred = knn.predict(X_test)\n",
    "\n",
    "# Calculate accuracy and confusion matrix\n",
    "accuracy = accuracy_score(y_test, y_pred)\n",
    "conf_matrix = confusion_matrix(y_test, y_pred)\n",
    "\n",
    "print(f'Accuracy Score: {accuracy}')\n",
    "\n",
    "\n",
    "disp = ConfusionMatrixDisplay(confusion_matrix=conf_matrix)\n",
    "\n",
    "disp.plot()\n",
    "plt.show()"
   ]
  },
  {
   "cell_type": "markdown",
   "metadata": {},
   "source": [
    "Initially, our dataset exhibited a significant class imbalance, with 151 non-healthy individuals compared to only 57 healthy ones. Such disproportion can lead to biased model performance, where the model might overly favor the majority class. Before addressing the imbalance, the KNN classifier yielded an accuracy score of approximately 0.69. While accuracy is a useful metric, it can be misleading when dealing with imbalanced datasets, as it doesn't reflect the model's performance on each class separately. Our confusion matrix suggests that the classifier is better at identifying non-healthy individuals than healthy ones, likely due to the class imbalance. This resulted in a higher number of false negatives, this can be concerning because it represnts missed diagnosis which is a big deal.\n",
    "We will down sample the majority in this case being the non-healthy subjects to try improve our current results. We will see if this makes a difference in our accuracy score and/or confusion matrix "
   ]
  },
  {
   "cell_type": "code",
   "execution_count": 843,
   "metadata": {},
   "outputs": [
    {
     "name": "stdout",
     "output_type": "stream",
     "text": [
      "Diagnosis\n",
      "1    57\n",
      "0    57\n",
      "Name: count, dtype: int64\n"
     ]
    }
   ],
   "source": [
    "from sklearn.utils import resample\n",
    "\n",
    "# Separate majority and minority classes\n",
    "df_majority = all_subjects_df[all_subjects_df.Diagnosis == 1]\n",
    "df_minority = all_subjects_df[all_subjects_df.Diagnosis == 0]\n",
    "\n",
    "# Downsample majority class\n",
    "df_majority_downsampled = resample(df_majority, \n",
    "                                   replace=False,    # Sample without replacement\n",
    "                                   n_samples=len(df_minority),  # to match minority class\n",
    "                                   random_state=42)  # reproducible results\n",
    "\n",
    "# Combine minority class with downsampled majority class\n",
    "df_downsampled = pd.concat([df_majority_downsampled, df_minority])\n",
    "\n",
    "# Display new class counts\n",
    "print(df_downsampled.Diagnosis.value_counts())\n",
    "\n",
    "# We wanna split the downsampled DataFrame\n",
    "X_downsampled = df_downsampled[voice_features]\n",
    "y_downsampled = df_downsampled['Diagnosis']\n",
    "\n",
    "# Split the downsampled data into training and testing sets\n",
    "X_train_down, X_test_down, y_train_down, y_test_down = train_test_split(X_downsampled, y_downsampled, test_size=0.3, random_state=42)\n"
   ]
  },
  {
   "cell_type": "markdown",
   "metadata": {},
   "source": [
    "After down sampling the majority(subjects with actual diagnosis), we then re apply our model. We will look at the accuracy score and the confusion matrix to see if the results have improved."
   ]
  },
  {
   "cell_type": "code",
   "execution_count": 844,
   "metadata": {},
   "outputs": [
    {
     "name": "stdout",
     "output_type": "stream",
     "text": [
      "Accuracy: 0.6285714285714286\n",
      "Confusion Matrix:\n",
      "[[10  7]\n",
      " [ 6 12]]\n"
     ]
    },
    {
     "data": {
      "image/png": "[encoded data removed]",
      "text/plain": [
       "<Figure size 640x480 with 2 Axes>"
      ]
     },
     "metadata": {},
     "output_type": "display_data"
    }
   ],
   "source": [
    "from sklearn.neighbors import KNeighborsClassifier\n",
    "from sklearn.metrics import accuracy_score, confusion_matrix, ConfusionMatrixDisplay\n",
    "import matplotlib.pyplot as plt\n",
    "\n",
    "# Initialize the KNN classifier\n",
    "knn = KNeighborsClassifier(n_neighbors=8)\n",
    "\n",
    "# Fit the classifier using the downsampled training set\n",
    "knn.fit(X_train_down, y_train_down)\n",
    "\n",
    "# Predict on the downsampled test set\n",
    "y_pred_down = knn.predict(X_test_down)\n",
    "\n",
    "# Calculate accuracy and confusion matrix using the downsampled test set\n",
    "accuracy_down = accuracy_score(y_test_down, y_pred_down)\n",
    "conf_matrix_down = confusion_matrix(y_test_down, y_pred_down)\n",
    "\n",
    "print(f'Accuracy: {accuracy_down}')\n",
    "print(f'Confusion Matrix:\\n{conf_matrix_down}')\n",
    "\n",
    "# Display the confusion matrix\n",
    "disp = ConfusionMatrixDisplay(confusion_matrix=conf_matrix_down)\n",
    "disp.plot()\n",
    "plt.show()\n"
   ]
  },
  {
   "cell_type": "markdown",
   "metadata": {},
   "source": [
    "Another model that we will use is the Random Forest Classifier"
   ]
  },
  {
   "cell_type": "code",
   "execution_count": 845,
   "metadata": {},
   "outputs": [
    {
     "name": "stdout",
     "output_type": "stream",
     "text": [
      "Accuracy of the Random Forest classifier: 0.67\n"
     ]
    },
    {
     "data": {
      "image/png": "[encoded data removed]",
      "text/plain": [
       "<Figure size 640x480 with 2 Axes>"
      ]
     },
     "metadata": {},
     "output_type": "display_data"
    }
   ],
   "source": [
    "from sklearn.ensemble import RandomForestClassifier\n",
    "from sklearn.metrics import accuracy_score\n",
    "\n",
    "# Initialize the Random Forest Classifier\n",
    "rf_classifier = RandomForestClassifier(n_estimators=100, random_state=10)\n",
    "\n",
    "# Train the model \n",
    "rf_classifier.fit(X_train, y_train)\n",
    "\n",
    "# Make predictions on the test set\n",
    "y_pred = rf_classifier.predict(X_test)\n",
    "\n",
    "\n",
    "# Evaluate the model's accuracy\n",
    "accuracy = accuracy_score(y_test, y_pred)\n",
    "print(f'Accuracy of the Random Forest classifier: {accuracy:.2f}')\n",
    "\n",
    "conf_matrix = confusion_matrix(y_test, y_pred)\n",
    "\n",
    "disp = ConfusionMatrixDisplay(confusion_matrix=conf_matrix)\n",
    "\n",
    "disp.plot()\n",
    "plt.show()"
   ]
  }
 ],
 "metadata": {
  "kernelspec": {
   "display_name": "Python 3 (ipykernel)",
   "language": "python",
   "name": "python3"
  },
  "language_info": {
   "codemirror_mode": {
    "name": "ipython",
    "version": 3
   },
   "file_extension": ".py",
   "mimetype": "text/x-python",
   "name": "python",
   "nbconvert_exporter": "python",
   "pygments_lexer": "ipython3",
   "version": "3.11.5"
  }
 },
 "nbformat": 4,
 "nbformat_minor": 2
}
